{
 "cells": [
  {
   "cell_type": "code",
   "execution_count": 62,
   "id": "ddf9b87f-2058-4102-88f5-95ce56200533",
   "metadata": {},
   "outputs": [],
   "source": [
    "import pandas as pd\n",
    "import numpy as np\n",
    "import matplotlib.pyplot as plt\n",
    "import seaborn as sns"
   ]
  },
  {
   "cell_type": "code",
   "execution_count": 3,
   "id": "e5921d26-a97d-45cc-bb67-0244e127c08c",
   "metadata": {},
   "outputs": [],
   "source": [
    "insurance = pd.read_excel('Dataset_pandas_assign.xlsx')\n",
    "insurance = insurance.iloc[1:]"
   ]
  },
  {
   "cell_type": "code",
   "execution_count": 4,
   "id": "87609e1f-a37e-4e95-b97d-3534921bde3e",
   "metadata": {},
   "outputs": [
    {
     "data": {
      "text/html": [
       "<div>\n",
       "<style scoped>\n",
       "    .dataframe tbody tr th:only-of-type {\n",
       "        vertical-align: middle;\n",
       "    }\n",
       "\n",
       "    .dataframe tbody tr th {\n",
       "        vertical-align: top;\n",
       "    }\n",
       "\n",
       "    .dataframe thead th {\n",
       "        text-align: right;\n",
       "    }\n",
       "</style>\n",
       "<table border=\"1\" class=\"dataframe\">\n",
       "  <thead>\n",
       "    <tr style=\"text-align: right;\">\n",
       "      <th></th>\n",
       "      <th>Unique number</th>\n",
       "      <th>Возраст, полных лет</th>\n",
       "      <th>Гражданство</th>\n",
       "      <th>Стаж вождения</th>\n",
       "      <th>Пол</th>\n",
       "      <th>КБМ</th>\n",
       "      <th>Город</th>\n",
       "      <th>Марка</th>\n",
       "      <th>Модель</th>\n",
       "      <th>Тип ТС</th>\n",
       "      <th>Год выпуска</th>\n",
       "      <th>Расположение руля</th>\n",
       "      <th>Объём двигателя</th>\n",
       "      <th>Цвет</th>\n",
       "      <th>Период страхования</th>\n",
       "      <th>Страховая премия</th>\n",
       "      <th>Льготы</th>\n",
       "      <th>Дата проишествия</th>\n",
       "      <th>Регион ДТП</th>\n",
       "      <th>Сумма убытка</th>\n",
       "    </tr>\n",
       "  </thead>\n",
       "  <tbody>\n",
       "    <tr>\n",
       "      <th>10906</th>\n",
       "      <td>c84892e816bec0dbd5429c75fb57b305</td>\n",
       "      <td>55</td>\n",
       "      <td>Казахстан</td>\n",
       "      <td>20</td>\n",
       "      <td>М</td>\n",
       "      <td>9</td>\n",
       "      <td>Петропавловск</td>\n",
       "      <td>Нива 212300-55I</td>\n",
       "      <td>Шевроле</td>\n",
       "      <td>Легковые автомобили</td>\n",
       "      <td>2012-01-01 00:00:00</td>\n",
       "      <td>Слева</td>\n",
       "      <td>1690</td>\n",
       "      <td>серебристый</td>\n",
       "      <td>16.06.2013-15.06.2014</td>\n",
       "      <td>6400</td>\n",
       "      <td>NaN</td>\n",
       "      <td>NaN</td>\n",
       "      <td>NaN</td>\n",
       "      <td>NaN</td>\n",
       "    </tr>\n",
       "    <tr>\n",
       "      <th>10907</th>\n",
       "      <td>d406878650cbf18002d29968bf832c31</td>\n",
       "      <td>73</td>\n",
       "      <td>Казахстан</td>\n",
       "      <td>45</td>\n",
       "      <td>М</td>\n",
       "      <td>8</td>\n",
       "      <td>Костанай</td>\n",
       "      <td>Нива 212300-55I</td>\n",
       "      <td>Шевроле</td>\n",
       "      <td>Легковые автомобили</td>\n",
       "      <td>2010-12-01 00:00:00</td>\n",
       "      <td>Слева</td>\n",
       "      <td>1700</td>\n",
       "      <td>снежная королева</td>\n",
       "      <td>18.06.2013-17.06.2014</td>\n",
       "      <td>10053</td>\n",
       "      <td>NaN</td>\n",
       "      <td>NaN</td>\n",
       "      <td>NaN</td>\n",
       "      <td>NaN</td>\n",
       "    </tr>\n",
       "    <tr>\n",
       "      <th>10908</th>\n",
       "      <td>dcb07973b07a508c4680406b38fdfa56</td>\n",
       "      <td>67</td>\n",
       "      <td>Казахстан</td>\n",
       "      <td>20</td>\n",
       "      <td>М</td>\n",
       "      <td>8</td>\n",
       "      <td>Усть-Каменогорск</td>\n",
       "      <td>Нива 212300-55glc</td>\n",
       "      <td>Шевроле</td>\n",
       "      <td>Легковые автомобили</td>\n",
       "      <td>2011-12-01 00:00:00</td>\n",
       "      <td>Слева</td>\n",
       "      <td>1690</td>\n",
       "      <td>снежная королева</td>\n",
       "      <td>01.07.2013-30.06.2014</td>\n",
       "      <td>5052</td>\n",
       "      <td>Инвалид</td>\n",
       "      <td>NaN</td>\n",
       "      <td>NaN</td>\n",
       "      <td>NaN</td>\n",
       "    </tr>\n",
       "    <tr>\n",
       "      <th>10909</th>\n",
       "      <td>e5d53857c001d29441e397a35ccc0392</td>\n",
       "      <td>65</td>\n",
       "      <td>Казахстан</td>\n",
       "      <td>34</td>\n",
       "      <td>М</td>\n",
       "      <td>8</td>\n",
       "      <td>Актобе</td>\n",
       "      <td>Нива 212300-55I</td>\n",
       "      <td>Шевроле</td>\n",
       "      <td>Легковые автомобили</td>\n",
       "      <td>2011-12-01 00:00:00</td>\n",
       "      <td>Слева</td>\n",
       "      <td>1690</td>\n",
       "      <td>серебристый</td>\n",
       "      <td>01.07.2013-30.06.2014</td>\n",
       "      <td>3480</td>\n",
       "      <td>Инвалид</td>\n",
       "      <td>NaN</td>\n",
       "      <td>NaN</td>\n",
       "      <td>NaN</td>\n",
       "    </tr>\n",
       "  </tbody>\n",
       "</table>\n",
       "</div>"
      ],
      "text/plain": [
       "                          Unique number  Возраст, полных лет Гражданство  \\\n",
       "10906  c84892e816bec0dbd5429c75fb57b305                   55   Казахстан   \n",
       "10907  d406878650cbf18002d29968bf832c31                   73   Казахстан   \n",
       "10908  dcb07973b07a508c4680406b38fdfa56                   67   Казахстан   \n",
       "10909  e5d53857c001d29441e397a35ccc0392                   65   Казахстан   \n",
       "\n",
       "       Стаж вождения Пол  КБМ             Город              Марка   Модель  \\\n",
       "10906             20   М    9     Петропавловск    Нива 212300-55I  Шевроле   \n",
       "10907             45   М    8          Костанай    Нива 212300-55I  Шевроле   \n",
       "10908             20   М    8  Усть-Каменогорск  Нива 212300-55glc  Шевроле   \n",
       "10909             34   М    8            Актобе    Нива 212300-55I  Шевроле   \n",
       "\n",
       "                   Тип ТС           Год выпуска Расположение руля  \\\n",
       "10906  Легковые автомобили  2012-01-01 00:00:00             Слева   \n",
       "10907  Легковые автомобили  2010-12-01 00:00:00             Слева   \n",
       "10908  Легковые автомобили  2011-12-01 00:00:00             Слева   \n",
       "10909  Легковые автомобили  2011-12-01 00:00:00             Слева   \n",
       "\n",
       "       Объём двигателя              Цвет     Период страхования  \\\n",
       "10906             1690       серебристый  16.06.2013-15.06.2014   \n",
       "10907             1700  снежная королева  18.06.2013-17.06.2014   \n",
       "10908             1690  снежная королева  01.07.2013-30.06.2014   \n",
       "10909             1690       серебристый  01.07.2013-30.06.2014   \n",
       "\n",
       "       Страховая премия    Льготы Дата проишествия Регион ДТП  Сумма убытка  \n",
       "10906              6400       NaN              NaN        NaN           NaN  \n",
       "10907             10053       NaN              NaN        NaN           NaN  \n",
       "10908              5052  Инвалид               NaN        NaN           NaN  \n",
       "10909              3480  Инвалид               NaN        NaN           NaN  "
      ]
     },
     "execution_count": 4,
     "metadata": {},
     "output_type": "execute_result"
    }
   ],
   "source": [
    "insurance.tail(4)"
   ]
  },
  {
   "cell_type": "markdown",
   "id": "eb137c75-5a00-476a-8a63-37143b05225c",
   "metadata": {},
   "source": [
    "# Каков средний возраст и процент дорожно-транспортных происшествий для всех водителей в разбивке по полу?"
   ]
  },
  {
   "cell_type": "code",
   "execution_count": 69,
   "id": "90753c8d-c2f7-48c1-a52c-6c6beb9011fc",
   "metadata": {},
   "outputs": [],
   "source": [
    "Q1= insurance.groupby('Пол', as_index = False)['Возраст, полных лет'].mean(0).round(0)\n",
    "road_accidents = insurance['Дата проишествия'].count()"
   ]
  },
  {
   "cell_type": "code",
   "execution_count": 70,
   "id": "4f07abea-1dee-432e-9d27-8bf51de72c3b",
   "metadata": {},
   "outputs": [
    {
     "name": "stdout",
     "output_type": "stream",
     "text": [
      "  Пол  Возраст, полных лет\n",
      "0   Ж                 44.0\n",
      "1   М                 48.0\n"
     ]
    }
   ],
   "source": [
    "print(Q1)"
   ]
  },
  {
   "cell_type": "code",
   "execution_count": 71,
   "id": "51f178dc-935c-44e7-8966-36410aa0795e",
   "metadata": {},
   "outputs": [],
   "source": [
    "Q1.rename(columns = {'Возраст, полных лет':'Средний возраст, лет'},inplace =True)"
   ]
  },
  {
   "cell_type": "code",
   "execution_count": 72,
   "id": "218a221c-c0bc-4e3d-a07d-10e93d5d786d",
   "metadata": {},
   "outputs": [],
   "source": [
    "road_accidents = insurance['Дата проишествия'].count()\n",
    "road_accidents_by_genders = insurance.groupby('Пол', as_index = False)['Дата проишествия'].count()\n",
    "Q1['Процент дорожно-транспортных происшествий, %'] = ((road_accidents_by_genders['Дата проишествия']/road_accidents)*100).round(0)"
   ]
  },
  {
   "cell_type": "code",
   "execution_count": 73,
   "id": "50b37136-4b6f-49de-b2c0-a8b99d3e2a08",
   "metadata": {},
   "outputs": [
    {
     "data": {
      "text/html": [
       "<div>\n",
       "<style scoped>\n",
       "    .dataframe tbody tr th:only-of-type {\n",
       "        vertical-align: middle;\n",
       "    }\n",
       "\n",
       "    .dataframe tbody tr th {\n",
       "        vertical-align: top;\n",
       "    }\n",
       "\n",
       "    .dataframe thead th {\n",
       "        text-align: right;\n",
       "    }\n",
       "</style>\n",
       "<table border=\"1\" class=\"dataframe\">\n",
       "  <thead>\n",
       "    <tr style=\"text-align: right;\">\n",
       "      <th></th>\n",
       "      <th>Пол</th>\n",
       "      <th>Средний возраст, лет</th>\n",
       "      <th>Процент дорожно-транспортных происшествий, %</th>\n",
       "    </tr>\n",
       "  </thead>\n",
       "  <tbody>\n",
       "    <tr>\n",
       "      <th>0</th>\n",
       "      <td>Ж</td>\n",
       "      <td>44.0</td>\n",
       "      <td>18.0</td>\n",
       "    </tr>\n",
       "    <tr>\n",
       "      <th>1</th>\n",
       "      <td>М</td>\n",
       "      <td>48.0</td>\n",
       "      <td>82.0</td>\n",
       "    </tr>\n",
       "  </tbody>\n",
       "</table>\n",
       "</div>"
      ],
      "text/plain": [
       "  Пол  Средний возраст, лет  Процент дорожно-транспортных происшествий, %\n",
       "0   Ж                  44.0                                          18.0\n",
       "1   М                  48.0                                          82.0"
      ]
     },
     "execution_count": 73,
     "metadata": {},
     "output_type": "execute_result"
    }
   ],
   "source": [
    "Q1"
   ]
  },
  {
   "cell_type": "code",
   "execution_count": 74,
   "id": "d0e5b3b3-e032-4499-aae0-11c9a30842ab",
   "metadata": {},
   "outputs": [
    {
     "data": {
      "image/png": "[encoded data removed]",
      "text/plain": [
       "<Figure size 600x400 with 1 Axes>"
      ]
     },
     "metadata": {},
     "output_type": "display_data"
    },
    {
     "data": {
      "image/png": "[encoded data removed]",
      "text/plain": [
       "<Figure size 600x400 with 1 Axes>"
      ]
     },
     "metadata": {},
     "output_type": "display_data"
    }
   ],
   "source": [
    "plt.figure(figsize=(6, 4))\n",
    "sns.barplot(data=insurance, x='Пол', y='Возраст, полных лет', estimator='mean')\n",
    "plt.title('Средний возраст водителей по полу')\n",
    "plt.ylabel('Средний возраст')\n",
    "plt.grid(True)\n",
    "plt.show()\n",
    "road_accidents_by_gender = insurance.groupby('Пол')['Дата проишествия'].count()\n",
    "total_accidents = insurance['Дата проишествия'].count()\n",
    "percent_by_gender = (road_accidents_by_gender / total_accidents * 100).round(1)\n",
    "plt.figure(figsize=(6, 4))\n",
    "sns.barplot(x=percent_by_gender.index, y=percent_by_gender.values)\n",
    "plt.title('Процент ДТП по полу')\n",
    "plt.ylabel('% ДТП')\n",
    "plt.grid(True)\n",
    "plt.show()\n"
   ]
  },
  {
   "cell_type": "markdown",
   "id": "f9af38ce-70da-425f-b5a6-89a21ae01fde",
   "metadata": {},
   "source": [
    "# В чем разница между средним опытом вождения и средним классом бонус-малус для мужчин и женщин?"
   ]
  },
  {
   "cell_type": "code",
   "execution_count": 13,
   "id": "8d9047bb-d45d-4876-9a70-dc1ad1a8f0bd",
   "metadata": {},
   "outputs": [
    {
     "data": {
      "text/plain": [
       "Пол\n",
       "Ж     7.099703\n",
       "М    11.302363\n",
       "dtype: float64"
      ]
     },
     "execution_count": 13,
     "metadata": {},
     "output_type": "execute_result"
    }
   ],
   "source": [
    "avg_driver_exp = insurance.groupby(by = 'Пол')['Стаж вождения'].mean()\n",
    "avg_bm = insurance.groupby(by = 'Пол')['КБМ'].mean()\n",
    "Q2 = np.subtract(avg_driver_exp,avg_bm)\n",
    "Q2"
   ]
  },
  {
   "cell_type": "markdown",
   "id": "57ab6d43-0fa3-4583-b41f-de6a15049322",
   "metadata": {},
   "source": [
    "# В каком году было выпущено наибольшее количество автомобилей? Пожалуйста, предоставьте список 10 лучших автомобилей за последние годы, отсортированный по количеству автомобилей (по убыванию)."
   ]
  },
  {
   "cell_type": "code",
   "execution_count": 20,
   "id": "723be5c9-8d5a-4ae6-b4a6-041ecdcc3948",
   "metadata": {},
   "outputs": [],
   "source": [
    "insurance['Год выпуска'] = pd.to_datetime(insurance['Год выпуска'], errors='coerce')\n",
    "Q3 = insurance.groupby(insurance['Год выпуска'].dt.year)['Год выпуска'].count().sort_values(ascending=False)[:10]"
   ]
  },
  {
   "cell_type": "code",
   "execution_count": 21,
   "id": "a238195d-f62d-404b-ac4b-9822610f73c6",
   "metadata": {},
   "outputs": [
    {
     "data": {
      "text/plain": [
       "Год выпуска\n",
       "2007    715\n",
       "1995    653\n",
       "1993    594\n",
       "1996    594\n",
       "1992    561\n",
       "1994    520\n",
       "2002    498\n",
       "1997    497\n",
       "1991    489\n",
       "2006    467\n",
       "Name: Год выпуска, dtype: int64"
      ]
     },
     "execution_count": 21,
     "metadata": {},
     "output_type": "execute_result"
    }
   ],
   "source": [
    "Q3"
   ]
  },
  {
   "cell_type": "markdown",
   "id": "d1c5401f-2f5d-461a-b07e-925f40cb0965",
   "metadata": {},
   "source": [
    "# Какая компания-производитель автомобилей является самой популярной в любых из 5 городов? (выберите города, которые вам больше всего нравятся)"
   ]
  },
  {
   "cell_type": "code",
   "execution_count": 34,
   "id": "5b8d8baf-5a0d-4837-a8a7-501bc0cf0f7b",
   "metadata": {},
   "outputs": [
    {
     "data": {
      "text/html": [
       "<div>\n",
       "<style scoped>\n",
       "    .dataframe tbody tr th:only-of-type {\n",
       "        vertical-align: middle;\n",
       "    }\n",
       "\n",
       "    .dataframe tbody tr th {\n",
       "        vertical-align: top;\n",
       "    }\n",
       "\n",
       "    .dataframe thead th {\n",
       "        text-align: right;\n",
       "    }\n",
       "</style>\n",
       "<table border=\"1\" class=\"dataframe\">\n",
       "  <thead>\n",
       "    <tr style=\"text-align: right;\">\n",
       "      <th></th>\n",
       "      <th>Unique number</th>\n",
       "      <th>Возраст, полных лет</th>\n",
       "      <th>Гражданство</th>\n",
       "      <th>Стаж вождения</th>\n",
       "      <th>Пол</th>\n",
       "      <th>КБМ</th>\n",
       "      <th>Город</th>\n",
       "      <th>Марка</th>\n",
       "      <th>Модель</th>\n",
       "      <th>Тип ТС</th>\n",
       "      <th>Год выпуска</th>\n",
       "      <th>Расположение руля</th>\n",
       "      <th>Объём двигателя</th>\n",
       "      <th>Цвет</th>\n",
       "      <th>Период страхования</th>\n",
       "      <th>Страховая премия</th>\n",
       "      <th>Льготы</th>\n",
       "      <th>Дата проишествия</th>\n",
       "      <th>Регион ДТП</th>\n",
       "      <th>Сумма убытка</th>\n",
       "    </tr>\n",
       "  </thead>\n",
       "  <tbody>\n",
       "    <tr>\n",
       "      <th>1</th>\n",
       "      <td>74d88aec9cfe39a1bc5a93314c4326dc</td>\n",
       "      <td>30</td>\n",
       "      <td>Казахстан</td>\n",
       "      <td>10</td>\n",
       "      <td>М</td>\n",
       "      <td>8</td>\n",
       "      <td>Алматы</td>\n",
       "      <td>156</td>\n",
       "      <td>Alfa romeo</td>\n",
       "      <td>Легковые автомобили</td>\n",
       "      <td>2000-12-01 00:00:00</td>\n",
       "      <td>Слева</td>\n",
       "      <td>3000</td>\n",
       "      <td>красный</td>\n",
       "      <td>14.06.2013-13.06.2014</td>\n",
       "      <td>17625</td>\n",
       "      <td>NaN</td>\n",
       "      <td>NaN</td>\n",
       "      <td>NaN</td>\n",
       "      <td>NaN</td>\n",
       "    </tr>\n",
       "    <tr>\n",
       "      <th>2</th>\n",
       "      <td>c13fe1fef2192e82056e26544c3efed3</td>\n",
       "      <td>36</td>\n",
       "      <td>Казахстан</td>\n",
       "      <td>17</td>\n",
       "      <td>М</td>\n",
       "      <td>8</td>\n",
       "      <td>Нур-Султан</td>\n",
       "      <td>156</td>\n",
       "      <td>Alfa romeo</td>\n",
       "      <td>Легковые автомобили</td>\n",
       "      <td>2001-12-01 00:00:00</td>\n",
       "      <td>Слева</td>\n",
       "      <td>2387</td>\n",
       "      <td>синий</td>\n",
       "      <td>19.07.2013-18.07.2014</td>\n",
       "      <td>8484</td>\n",
       "      <td>NaN</td>\n",
       "      <td>NaN</td>\n",
       "      <td>NaN</td>\n",
       "      <td>NaN</td>\n",
       "    </tr>\n",
       "    <tr>\n",
       "      <th>3</th>\n",
       "      <td>8dd751c0f9c0cf216303a0d445099e1b</td>\n",
       "      <td>46</td>\n",
       "      <td>Казахстан</td>\n",
       "      <td>28</td>\n",
       "      <td>М</td>\n",
       "      <td>8</td>\n",
       "      <td>Алматы</td>\n",
       "      <td>Rsv 1000r</td>\n",
       "      <td>Aprilia</td>\n",
       "      <td>Мотоциклы и мотороллеры</td>\n",
       "      <td>2005-12-01 00:00:00</td>\n",
       "      <td>Слева</td>\n",
       "      <td>998</td>\n",
       "      <td>красный</td>\n",
       "      <td>07.06.2013-06.06.2014</td>\n",
       "      <td>8031</td>\n",
       "      <td>NaN</td>\n",
       "      <td>NaN</td>\n",
       "      <td>NaN</td>\n",
       "      <td>NaN</td>\n",
       "    </tr>\n",
       "    <tr>\n",
       "      <th>4</th>\n",
       "      <td>005f21aeed2db9c1694f724f365be6b5</td>\n",
       "      <td>45</td>\n",
       "      <td>Казахстан</td>\n",
       "      <td>13</td>\n",
       "      <td>М</td>\n",
       "      <td>7</td>\n",
       "      <td>Нур-Султан</td>\n",
       "      <td>80</td>\n",
       "      <td>Audi</td>\n",
       "      <td>Легковые автомобили</td>\n",
       "      <td>1992-12-01 00:00:00</td>\n",
       "      <td>Слева</td>\n",
       "      <td>1984</td>\n",
       "      <td>серебристый металлик архивный</td>\n",
       "      <td>30.05.2013-29.11.2013</td>\n",
       "      <td>6709</td>\n",
       "      <td>NaN</td>\n",
       "      <td>NaN</td>\n",
       "      <td>NaN</td>\n",
       "      <td>NaN</td>\n",
       "    </tr>\n",
       "    <tr>\n",
       "      <th>8</th>\n",
       "      <td>0198b1f0b325da85356eb37824643400</td>\n",
       "      <td>61</td>\n",
       "      <td>Казахстан</td>\n",
       "      <td>15</td>\n",
       "      <td>Ж</td>\n",
       "      <td>8</td>\n",
       "      <td>Алматы</td>\n",
       "      <td>A4</td>\n",
       "      <td>Audi</td>\n",
       "      <td>Легковые автомобили</td>\n",
       "      <td>2002-12-01 00:00:00</td>\n",
       "      <td>Слева</td>\n",
       "      <td>2976</td>\n",
       "      <td>серебристый металлик архивный</td>\n",
       "      <td>16.06.2013-15.06.2014</td>\n",
       "      <td>19975</td>\n",
       "      <td>NaN</td>\n",
       "      <td>NaN</td>\n",
       "      <td>NaN</td>\n",
       "      <td>NaN</td>\n",
       "    </tr>\n",
       "    <tr>\n",
       "      <th>...</th>\n",
       "      <td>...</td>\n",
       "      <td>...</td>\n",
       "      <td>...</td>\n",
       "      <td>...</td>\n",
       "      <td>...</td>\n",
       "      <td>...</td>\n",
       "      <td>...</td>\n",
       "      <td>...</td>\n",
       "      <td>...</td>\n",
       "      <td>...</td>\n",
       "      <td>...</td>\n",
       "      <td>...</td>\n",
       "      <td>...</td>\n",
       "      <td>...</td>\n",
       "      <td>...</td>\n",
       "      <td>...</td>\n",
       "      <td>...</td>\n",
       "      <td>...</td>\n",
       "      <td>...</td>\n",
       "      <td>...</td>\n",
       "    </tr>\n",
       "    <tr>\n",
       "      <th>10866</th>\n",
       "      <td>c4209dbbea71748ea2df9267443dc538</td>\n",
       "      <td>40</td>\n",
       "      <td>Казахстан</td>\n",
       "      <td>21</td>\n",
       "      <td>М</td>\n",
       "      <td>9</td>\n",
       "      <td>Алматы</td>\n",
       "      <td>2206</td>\n",
       "      <td>УАЗ</td>\n",
       "      <td>Легковые автомобили</td>\n",
       "      <td>2001-12-01 00:00:00</td>\n",
       "      <td>Слева</td>\n",
       "      <td>2445</td>\n",
       "      <td>зелёный</td>\n",
       "      <td>19.06.2013-18.06.2014</td>\n",
       "      <td>15667</td>\n",
       "      <td>NaN</td>\n",
       "      <td>NaN</td>\n",
       "      <td>NaN</td>\n",
       "      <td>NaN</td>\n",
       "    </tr>\n",
       "    <tr>\n",
       "      <th>10870</th>\n",
       "      <td>ceb216027ebb266bb10a2dbe6282831f</td>\n",
       "      <td>29</td>\n",
       "      <td>Казахстан</td>\n",
       "      <td>10</td>\n",
       "      <td>М</td>\n",
       "      <td>6</td>\n",
       "      <td>Алматы</td>\n",
       "      <td>39094</td>\n",
       "      <td>УАЗ</td>\n",
       "      <td>Легковые автомобили</td>\n",
       "      <td>2004-12-01 00:00:00</td>\n",
       "      <td>Слева</td>\n",
       "      <td>2890</td>\n",
       "      <td>серый</td>\n",
       "      <td>15.06.2013-14.06.2014</td>\n",
       "      <td>19975</td>\n",
       "      <td>NaN</td>\n",
       "      <td>NaN</td>\n",
       "      <td>NaN</td>\n",
       "      <td>NaN</td>\n",
       "    </tr>\n",
       "    <tr>\n",
       "      <th>10873</th>\n",
       "      <td>d899175a23b136dd48f8de5f0d880aa4</td>\n",
       "      <td>64</td>\n",
       "      <td>Казахстан</td>\n",
       "      <td>19</td>\n",
       "      <td>М</td>\n",
       "      <td>9</td>\n",
       "      <td>Алматы</td>\n",
       "      <td>3962</td>\n",
       "      <td>УАЗ</td>\n",
       "      <td>Легковые автомобили</td>\n",
       "      <td>1998-12-01 00:00:00</td>\n",
       "      <td>Слева</td>\n",
       "      <td>2445</td>\n",
       "      <td>серо-голубой</td>\n",
       "      <td>06.06.2013-05.06.2014</td>\n",
       "      <td>15667</td>\n",
       "      <td>Инвалид</td>\n",
       "      <td>NaN</td>\n",
       "      <td>NaN</td>\n",
       "      <td>NaN</td>\n",
       "    </tr>\n",
       "    <tr>\n",
       "      <th>10901</th>\n",
       "      <td>6645aa07368d272eed8dbbc6c4412a5c</td>\n",
       "      <td>61</td>\n",
       "      <td>Казахстан</td>\n",
       "      <td>31</td>\n",
       "      <td>М</td>\n",
       "      <td>8</td>\n",
       "      <td>Актобе</td>\n",
       "      <td>Нива 212300-55I</td>\n",
       "      <td>Шевроле</td>\n",
       "      <td>Легковые автомобили</td>\n",
       "      <td>2013-12-01 00:00:00</td>\n",
       "      <td>Слева</td>\n",
       "      <td>1690</td>\n",
       "      <td>снежная королева</td>\n",
       "      <td>20.06.2013-25.02.2014</td>\n",
       "      <td>5743</td>\n",
       "      <td>NaN</td>\n",
       "      <td>NaN</td>\n",
       "      <td>NaN</td>\n",
       "      <td>NaN</td>\n",
       "    </tr>\n",
       "    <tr>\n",
       "      <th>10909</th>\n",
       "      <td>e5d53857c001d29441e397a35ccc0392</td>\n",
       "      <td>65</td>\n",
       "      <td>Казахстан</td>\n",
       "      <td>34</td>\n",
       "      <td>М</td>\n",
       "      <td>8</td>\n",
       "      <td>Актобе</td>\n",
       "      <td>Нива 212300-55I</td>\n",
       "      <td>Шевроле</td>\n",
       "      <td>Легковые автомобили</td>\n",
       "      <td>2011-12-01 00:00:00</td>\n",
       "      <td>Слева</td>\n",
       "      <td>1690</td>\n",
       "      <td>серебристый</td>\n",
       "      <td>01.07.2013-30.06.2014</td>\n",
       "      <td>3480</td>\n",
       "      <td>Инвалид</td>\n",
       "      <td>NaN</td>\n",
       "      <td>NaN</td>\n",
       "      <td>NaN</td>\n",
       "    </tr>\n",
       "  </tbody>\n",
       "</table>\n",
       "<p>5952 rows × 20 columns</p>\n",
       "</div>"
      ],
      "text/plain": [
       "                          Unique number  Возраст, полных лет Гражданство  \\\n",
       "1      74d88aec9cfe39a1bc5a93314c4326dc                   30   Казахстан   \n",
       "2      c13fe1fef2192e82056e26544c3efed3                   36   Казахстан   \n",
       "3      8dd751c0f9c0cf216303a0d445099e1b                   46   Казахстан   \n",
       "4      005f21aeed2db9c1694f724f365be6b5                   45   Казахстан   \n",
       "8      0198b1f0b325da85356eb37824643400                   61   Казахстан   \n",
       "...                                 ...                  ...         ...   \n",
       "10866  c4209dbbea71748ea2df9267443dc538                   40   Казахстан   \n",
       "10870  ceb216027ebb266bb10a2dbe6282831f                   29   Казахстан   \n",
       "10873  d899175a23b136dd48f8de5f0d880aa4                   64   Казахстан   \n",
       "10901  6645aa07368d272eed8dbbc6c4412a5c                   61   Казахстан   \n",
       "10909  e5d53857c001d29441e397a35ccc0392                   65   Казахстан   \n",
       "\n",
       "       Стаж вождения Пол  КБМ       Город            Марка      Модель  \\\n",
       "1                 10   М    8      Алматы              156  Alfa romeo   \n",
       "2                 17   М    8  Нур-Султан              156  Alfa romeo   \n",
       "3                 28   М    8      Алматы        Rsv 1000r     Aprilia   \n",
       "4                 13   М    7  Нур-Султан               80        Audi   \n",
       "8                 15   Ж    8      Алматы               A4        Audi   \n",
       "...              ...  ..  ...         ...              ...         ...   \n",
       "10866             21   М    9      Алматы             2206         УАЗ   \n",
       "10870             10   М    6      Алматы            39094         УАЗ   \n",
       "10873             19   М    9      Алматы             3962         УАЗ   \n",
       "10901             31   М    8      Актобе  Нива 212300-55I     Шевроле   \n",
       "10909             34   М    8      Актобе  Нива 212300-55I     Шевроле   \n",
       "\n",
       "                       Тип ТС           Год выпуска Расположение руля  \\\n",
       "1          Легковые автомобили  2000-12-01 00:00:00             Слева   \n",
       "2          Легковые автомобили  2001-12-01 00:00:00             Слева   \n",
       "3      Мотоциклы и мотороллеры  2005-12-01 00:00:00             Слева   \n",
       "4          Легковые автомобили  1992-12-01 00:00:00             Слева   \n",
       "8          Легковые автомобили  2002-12-01 00:00:00             Слева   \n",
       "...                        ...                  ...               ...   \n",
       "10866      Легковые автомобили  2001-12-01 00:00:00             Слева   \n",
       "10870      Легковые автомобили  2004-12-01 00:00:00             Слева   \n",
       "10873      Легковые автомобили  1998-12-01 00:00:00             Слева   \n",
       "10901      Легковые автомобили  2013-12-01 00:00:00             Слева   \n",
       "10909      Легковые автомобили  2011-12-01 00:00:00             Слева   \n",
       "\n",
       "       Объём двигателя                           Цвет     Период страхования  \\\n",
       "1                 3000                        красный  14.06.2013-13.06.2014   \n",
       "2                 2387                          синий  19.07.2013-18.07.2014   \n",
       "3                  998                        красный  07.06.2013-06.06.2014   \n",
       "4                 1984  серебристый металлик архивный  30.05.2013-29.11.2013   \n",
       "8                 2976  серебристый металлик архивный  16.06.2013-15.06.2014   \n",
       "...                ...                            ...                    ...   \n",
       "10866             2445                        зелёный  19.06.2013-18.06.2014   \n",
       "10870             2890                          серый  15.06.2013-14.06.2014   \n",
       "10873             2445                   серо-голубой  06.06.2013-05.06.2014   \n",
       "10901             1690               снежная королева  20.06.2013-25.02.2014   \n",
       "10909             1690                    серебристый  01.07.2013-30.06.2014   \n",
       "\n",
       "       Страховая премия    Льготы Дата проишествия Регион ДТП  Сумма убытка  \n",
       "1                 17625       NaN              NaN        NaN           NaN  \n",
       "2                  8484       NaN              NaN        NaN           NaN  \n",
       "3                  8031       NaN              NaN        NaN           NaN  \n",
       "4                  6709       NaN              NaN        NaN           NaN  \n",
       "8                 19975       NaN              NaN        NaN           NaN  \n",
       "...                 ...       ...              ...        ...           ...  \n",
       "10866             15667       NaN              NaN        NaN           NaN  \n",
       "10870             19975       NaN              NaN        NaN           NaN  \n",
       "10873             15667  Инвалид               NaN        NaN           NaN  \n",
       "10901              5743       NaN              NaN        NaN           NaN  \n",
       "10909              3480  Инвалид               NaN        NaN           NaN  \n",
       "\n",
       "[5952 rows x 20 columns]"
      ]
     },
     "execution_count": 34,
     "metadata": {},
     "output_type": "execute_result"
    }
   ],
   "source": [
    "Q3 = insurance[insurance['Город'].isin(['Алматы','Нур-Султан','Есик','Шелек','Актобе'])]\n",
    "Q3"
   ]
  },
  {
   "cell_type": "code",
   "execution_count": 35,
   "id": "55e6374c-5f56-4b55-a645-970c6644d9b2",
   "metadata": {},
   "outputs": [
    {
     "data": {
      "text/plain": [
       "Город\n",
       "Актобе                                                   Toyota\n",
       "Алматы                                                   Toyota\n",
       "Есик                          [Fiat, Mercedes-Benz, Mitsubishi]\n",
       "Нур-Султан                                               Toyota\n",
       "Шелек         [Audi, Ford, Mercedes-Benz, Mitsubishi, Toyota...\n",
       "Name: Модель, dtype: object"
      ]
     },
     "execution_count": 35,
     "metadata": {},
     "output_type": "execute_result"
    }
   ],
   "source": [
    "Q3.groupby(by='Город')['Модель'].agg(pd.Series.mode)"
   ]
  },
  {
   "cell_type": "markdown",
   "id": "3cc6bf65-46a3-4db1-9e4c-55acea67c3b3",
   "metadata": {},
   "source": [
    "# Какие цвета автомобилей люди предпочитают больше всего - темные или светлые? Разделите все цвета на темные и светлые по своему усмотрению."
   ]
  },
  {
   "cell_type": "code",
   "execution_count": 41,
   "id": "9f00e502-05d4-4303-9e6c-94a5f5cb2293",
   "metadata": {},
   "outputs": [],
   "source": [
    "dark = ['черный', 'синий', 'серый', 'серый металлик', 'черный металлик', 'темно-синий металлик', 'темно-синий']\n",
    "light =['серебристый металлик архивный', 'белый', 'серебристый', 'красный', 'зелёный', 'синий металлик', 'зеленый металлик', 'золотистый металлик', 'комбинированный', 'белый металлик', 'вишневый', 'бежевый ', 'голубой'] "
   ]
  },
  {
   "cell_type": "code",
   "execution_count": 42,
   "id": "626e07d8-3878-40f3-89cb-f827802d6e6f",
   "metadata": {},
   "outputs": [],
   "source": [
    "insurance.loc[insurance['Цвет'].isin(dark),'Тон']= 'Темный'\n",
    "insurance.loc[insurance['Цвет'].isin(light),'Тон']= 'Светлый'"
   ]
  },
  {
   "cell_type": "code",
   "execution_count": 43,
   "id": "4fb68fc2-891c-400c-b19e-30ef20ada010",
   "metadata": {},
   "outputs": [],
   "source": [
    "Q4 = insurance.groupby(by='Тон')['Тон'].count()"
   ]
  },
  {
   "cell_type": "code",
   "execution_count": 44,
   "id": "d2159f17-1d60-4f2d-9b9c-13fda543c1ab",
   "metadata": {},
   "outputs": [
    {
     "data": {
      "text/plain": [
       "Тон\n",
       "Светлый    5759\n",
       "Темный     2901\n",
       "Name: Тон, dtype: int64"
      ]
     },
     "execution_count": 44,
     "metadata": {},
     "output_type": "execute_result"
    }
   ],
   "source": [
    "Q4"
   ]
  },
  {
   "cell_type": "markdown",
   "id": "3747943b-1eb3-4fe3-8ed3-b6cb8e38f51e",
   "metadata": {},
   "source": [
    "# Какая компания по производству автомобилей является самой популярной среди женщин в Алматы, Шымкенте и Нурсултане (Астане) соответственно?"
   ]
  },
  {
   "cell_type": "code",
   "execution_count": 46,
   "id": "6edec708-0a18-42d9-990c-a66d376bc512",
   "metadata": {},
   "outputs": [
    {
     "data": {
      "text/plain": [
       "Город\n",
       "Алматы                Toyota\n",
       "Нур-Султан            Toyota\n",
       "Шымкент       [Audi, Toyota]\n",
       "Name: Модель, dtype: object"
      ]
     },
     "execution_count": 46,
     "metadata": {},
     "output_type": "execute_result"
    }
   ],
   "source": [
    "Q5 = insurance[(insurance['Город'].isin(['Шымкент','Алматы','Нур-Султан'])) & (insurance['Пол'] == 'Ж')]\n",
    "Q5 = Q5.groupby(['Город'])['Модель'].agg(pd.Series.mode)\n",
    "Q5"
   ]
  },
  {
   "cell_type": "markdown",
   "id": "b1d05595-974c-4f52-917c-5424dcff9d21",
   "metadata": {},
   "source": [
    "# Каково распределение дорожно-транспортных происшествий по разным городам? Какой город занимает первое место по количеству дорожно-транспортных происшествий? Есть ли в топ-10 городов страны какие-либо из них?"
   ]
  },
  {
   "cell_type": "code",
   "execution_count": 21,
   "id": "d44eb328-c8da-4eb5-a59e-69cb1c2fbb11",
   "metadata": {},
   "outputs": [],
   "source": [
    "cities = ['Абай',  'Акколь',  'Аксай',  'Аксу',  'Актау',  'Актобе',  'Алга',  'Алматы',  'Арал',  'Аркалык',  'Арыс',  'Нур-Султан',  'Атбасар',  'Атырау',  'Аягоз',  'Байконыр',  'Балхаш',  'Булаево',  'Державинск',  'Ерейментау',  'Есик',  'Есиль',  'Жанаозен',  'Жанатас',  'Жаркент',  'Жезказган',  'Жем',  'Жетысай',  'Житикара',  'Зайсан',  'Алтай',  'Казалинск',  'Кандыагаш',  'Капшагай',  'Караганда',  'Каражал',  'Каратау',  'Каркаралинск',  'Каскелен',  'Кентау',  'Кокшетау',  'Костанай',  'Косшы',  'Кулсары',  'Курчатов',  'Кызылорда',  'Ленгер',  'Лисаковск',  'Макинск',  'Мамлютка',  'Павлодар',  'Петропавловск',  'Приозёрск',  'Риддер',  'Рудный',  'Сарань',  'Сарканд',  'Сарыагаш',  'Сатпаев',  'Семей',  'Сергеевка',  'Серебрянск',  'Степногорск',  'Степняк',  'Тайынша',  'Талгар',  'Талдыкорган',  'Тараз',  'Текели',  'Темир',  'Темиртау',  'Тобыл',  'Туркестан',  'Уральск',  'Усть-Каменогорск',  'Ушарал',  'Уштобе',  'Форт-Шевченко',  'Хромтау',  'Шардара',  'Шалкар',  'Шар',  'Шахтинск',  'Шемонаиха',  'Шу',  'Шымкент', 'Щучинск',  'Экибастуз',  'Эмба']"
   ]
  },
  {
   "cell_type": "code",
   "execution_count": 48,
   "id": "b559d8d5-70a7-4de8-bddb-dc432fd82177",
   "metadata": {},
   "outputs": [],
   "source": [
    "Q6 = insurance.groupby('Город',as_index=False)['Дата проишествия'].count().sort_values('Дата проишествия', ascending=False).head(10)\n",
    "Q6.rename(columns = {'Дата проишествия':'Кол-во дорожных происшествий'}, inplace = True)"
   ]
  },
  {
   "cell_type": "code",
   "execution_count": 49,
   "id": "bd0bf0c0-3c88-4371-a2c2-05d41ec7af2f",
   "metadata": {},
   "outputs": [
    {
     "data": {
      "text/html": [
       "<div>\n",
       "<style scoped>\n",
       "    .dataframe tbody tr th:only-of-type {\n",
       "        vertical-align: middle;\n",
       "    }\n",
       "\n",
       "    .dataframe tbody tr th {\n",
       "        vertical-align: top;\n",
       "    }\n",
       "\n",
       "    .dataframe thead th {\n",
       "        text-align: right;\n",
       "    }\n",
       "</style>\n",
       "<table border=\"1\" class=\"dataframe\">\n",
       "  <thead>\n",
       "    <tr style=\"text-align: right;\">\n",
       "      <th></th>\n",
       "      <th>Город</th>\n",
       "      <th>Кол-во дорожных происшествий</th>\n",
       "      <th>Местность</th>\n",
       "    </tr>\n",
       "  </thead>\n",
       "  <tbody>\n",
       "    <tr>\n",
       "      <th>25</th>\n",
       "      <td>Алматы</td>\n",
       "      <td>56</td>\n",
       "      <td>Город</td>\n",
       "    </tr>\n",
       "    <tr>\n",
       "      <th>337</th>\n",
       "      <td>Петропавловск</td>\n",
       "      <td>17</td>\n",
       "      <td>Город</td>\n",
       "    </tr>\n",
       "    <tr>\n",
       "      <th>309</th>\n",
       "      <td>Нур-Султан</td>\n",
       "      <td>15</td>\n",
       "      <td>Город</td>\n",
       "    </tr>\n",
       "    <tr>\n",
       "      <th>12</th>\n",
       "      <td>Актобе</td>\n",
       "      <td>15</td>\n",
       "      <td>Город</td>\n",
       "    </tr>\n",
       "    <tr>\n",
       "      <th>234</th>\n",
       "      <td>Костанай</td>\n",
       "      <td>10</td>\n",
       "      <td>Город</td>\n",
       "    </tr>\n",
       "    <tr>\n",
       "      <th>224</th>\n",
       "      <td>Кокшетау</td>\n",
       "      <td>5</td>\n",
       "      <td>Город</td>\n",
       "    </tr>\n",
       "    <tr>\n",
       "      <th>192</th>\n",
       "      <td>Караганда</td>\n",
       "      <td>3</td>\n",
       "      <td>Город</td>\n",
       "    </tr>\n",
       "    <tr>\n",
       "      <th>40</th>\n",
       "      <td>Атбасар</td>\n",
       "      <td>2</td>\n",
       "      <td>Город</td>\n",
       "    </tr>\n",
       "    <tr>\n",
       "      <th>41</th>\n",
       "      <td>Атбасар,Атбасар</td>\n",
       "      <td>2</td>\n",
       "      <td>Сельская местность</td>\n",
       "    </tr>\n",
       "    <tr>\n",
       "      <th>451</th>\n",
       "      <td>Шымкент</td>\n",
       "      <td>2</td>\n",
       "      <td>Город</td>\n",
       "    </tr>\n",
       "  </tbody>\n",
       "</table>\n",
       "</div>"
      ],
      "text/plain": [
       "               Город  Кол-во дорожных происшествий           Местность\n",
       "25            Алматы                            56               Город\n",
       "337    Петропавловск                            17               Город\n",
       "309       Нур-Султан                            15               Город\n",
       "12            Актобе                            15               Город\n",
       "234         Костанай                            10               Город\n",
       "224         Кокшетау                             5               Город\n",
       "192        Караганда                             3               Город\n",
       "40           Атбасар                             2               Город\n",
       "41   Атбасар,Атбасар                             2  Сельская местность\n",
       "451          Шымкент                             2               Город"
      ]
     },
     "execution_count": 49,
     "metadata": {},
     "output_type": "execute_result"
    }
   ],
   "source": [
    "Q6.loc[Q8['Город'].isin(cities),'Местность'] ='Город'\n",
    "Q6.loc[~Q8['Город'].isin(cities),'Местность'] ='Сельская местность'\n",
    "Q6"
   ]
  },
  {
   "cell_type": "code",
   "execution_count": 63,
   "id": "2083b09d-5248-4f9e-bf40-a945fa7d3768",
   "metadata": {},
   "outputs": [
    {
     "data": {
      "image/png": "[encoded data removed]",
      "text/plain": [
       "<Figure size 1000x600 with 1 Axes>"
      ]
     },
     "metadata": {},
     "output_type": "display_data"
    }
   ],
   "source": [
    "plt.figure(figsize=(10, 6))\n",
    "top_cities = insurance['Город'].value_counts().head(10)\n",
    "sns.barplot(x=top_cities.values, y=top_cities.index)\n",
    "plt.title('Топ-10 городов по количеству записей (в т.ч. ДТП)')\n",
    "plt.xlabel('Количество записей')\n",
    "plt.ylabel('Город')\n",
    "plt.grid(True)\n",
    "plt.show()\n"
   ]
  },
  {
   "cell_type": "markdown",
   "id": "dd6c8b1e-9fd8-4ccd-9c3b-90fb72c6e409",
   "metadata": {},
   "source": [
    "# У скольких людей было более 1 автомобиля за один год? Есть ли водитель, который попадал в более чем 1 автомобильную аварию за один год?"
   ]
  },
  {
   "cell_type": "code",
   "execution_count": 50,
   "id": "57af1e2c-7624-4637-a3ea-ecc7f8e4894b",
   "metadata": {},
   "outputs": [],
   "source": [
    "Q7 = insurance.groupby('Unique number',as_index=False)['Марка'].count()"
   ]
  },
  {
   "cell_type": "code",
   "execution_count": 52,
   "id": "52ee4b90-b09a-499e-a2d5-261cbf251b34",
   "metadata": {},
   "outputs": [],
   "source": [
    "Q7= Q7[Q7['Марка']>1]"
   ]
  },
  {
   "cell_type": "code",
   "execution_count": 53,
   "id": "c2539572-041d-42e3-87ea-6de9636577d5",
   "metadata": {},
   "outputs": [
    {
     "data": {
      "text/html": [
       "<div>\n",
       "<style scoped>\n",
       "    .dataframe tbody tr th:only-of-type {\n",
       "        vertical-align: middle;\n",
       "    }\n",
       "\n",
       "    .dataframe tbody tr th {\n",
       "        vertical-align: top;\n",
       "    }\n",
       "\n",
       "    .dataframe thead th {\n",
       "        text-align: right;\n",
       "    }\n",
       "</style>\n",
       "<table border=\"1\" class=\"dataframe\">\n",
       "  <thead>\n",
       "    <tr style=\"text-align: right;\">\n",
       "      <th></th>\n",
       "      <th>Unique number</th>\n",
       "      <th>Марка</th>\n",
       "    </tr>\n",
       "  </thead>\n",
       "  <tbody>\n",
       "    <tr>\n",
       "      <th>23</th>\n",
       "      <td>00ce5edb26bc950bb6b8bc2542f228f3</td>\n",
       "      <td>2</td>\n",
       "    </tr>\n",
       "    <tr>\n",
       "      <th>32</th>\n",
       "      <td>010a949dc5eccda1e309fe0954ed94f1</td>\n",
       "      <td>2</td>\n",
       "    </tr>\n",
       "    <tr>\n",
       "      <th>64</th>\n",
       "      <td>01d831ff617e0f0e77bd237bf1b9bed1</td>\n",
       "      <td>2</td>\n",
       "    </tr>\n",
       "    <tr>\n",
       "      <th>67</th>\n",
       "      <td>01e8782cf57e847baa387fe76d893eb7</td>\n",
       "      <td>2</td>\n",
       "    </tr>\n",
       "    <tr>\n",
       "      <th>87</th>\n",
       "      <td>02dcee04506770b1909c0fa1ebe404e5</td>\n",
       "      <td>2</td>\n",
       "    </tr>\n",
       "    <tr>\n",
       "      <th>...</th>\n",
       "      <td>...</td>\n",
       "      <td>...</td>\n",
       "    </tr>\n",
       "    <tr>\n",
       "      <th>9378</th>\n",
       "      <td>fed1ab1df8de1cc68bf2ccaf918ac4e4</td>\n",
       "      <td>2</td>\n",
       "    </tr>\n",
       "    <tr>\n",
       "      <th>9381</th>\n",
       "      <td>fedaa7440589bfc670b4f36dcaaa6586</td>\n",
       "      <td>2</td>\n",
       "    </tr>\n",
       "    <tr>\n",
       "      <th>9406</th>\n",
       "      <td>ff8ad431598eea94fddeb8eab25283d3</td>\n",
       "      <td>3</td>\n",
       "    </tr>\n",
       "    <tr>\n",
       "      <th>9409</th>\n",
       "      <td>ffb765b2720e669c12b0e1e95bca8d4a</td>\n",
       "      <td>4</td>\n",
       "    </tr>\n",
       "    <tr>\n",
       "      <th>9418</th>\n",
       "      <td>ffef1aa79482bffbdf5b1244e5cfc14e</td>\n",
       "      <td>2</td>\n",
       "    </tr>\n",
       "  </tbody>\n",
       "</table>\n",
       "<p>985 rows × 2 columns</p>\n",
       "</div>"
      ],
      "text/plain": [
       "                         Unique number  Марка\n",
       "23    00ce5edb26bc950bb6b8bc2542f228f3      2\n",
       "32    010a949dc5eccda1e309fe0954ed94f1      2\n",
       "64    01d831ff617e0f0e77bd237bf1b9bed1      2\n",
       "67    01e8782cf57e847baa387fe76d893eb7      2\n",
       "87    02dcee04506770b1909c0fa1ebe404e5      2\n",
       "...                                ...    ...\n",
       "9378  fed1ab1df8de1cc68bf2ccaf918ac4e4      2\n",
       "9381  fedaa7440589bfc670b4f36dcaaa6586      2\n",
       "9406  ff8ad431598eea94fddeb8eab25283d3      3\n",
       "9409  ffb765b2720e669c12b0e1e95bca8d4a      4\n",
       "9418  ffef1aa79482bffbdf5b1244e5cfc14e      2\n",
       "\n",
       "[985 rows x 2 columns]"
      ]
     },
     "execution_count": 53,
     "metadata": {},
     "output_type": "execute_result"
    }
   ],
   "source": [
    "Q7"
   ]
  },
  {
   "cell_type": "code",
   "execution_count": 55,
   "id": "04441d22-bd07-4739-94b8-16d4526e020e",
   "metadata": {},
   "outputs": [],
   "source": [
    "Q7_2 = insurance.groupby('Unique number',as_index = False)['Дата проишествия'].count()"
   ]
  },
  {
   "cell_type": "code",
   "execution_count": 56,
   "id": "c5192c6f-0a15-45ea-bc43-ff020d048940",
   "metadata": {},
   "outputs": [
    {
     "data": {
      "text/html": [
       "<div>\n",
       "<style scoped>\n",
       "    .dataframe tbody tr th:only-of-type {\n",
       "        vertical-align: middle;\n",
       "    }\n",
       "\n",
       "    .dataframe tbody tr th {\n",
       "        vertical-align: top;\n",
       "    }\n",
       "\n",
       "    .dataframe thead th {\n",
       "        text-align: right;\n",
       "    }\n",
       "</style>\n",
       "<table border=\"1\" class=\"dataframe\">\n",
       "  <thead>\n",
       "    <tr style=\"text-align: right;\">\n",
       "      <th></th>\n",
       "      <th>Unique number</th>\n",
       "      <th>Дата проишествия</th>\n",
       "    </tr>\n",
       "  </thead>\n",
       "  <tbody>\n",
       "    <tr>\n",
       "      <th>0</th>\n",
       "      <td>0002a2f516ef21ac1e56e6b9825c9d8b</td>\n",
       "      <td>0</td>\n",
       "    </tr>\n",
       "    <tr>\n",
       "      <th>1</th>\n",
       "      <td>0010956940024093ae8a8fd43454336a</td>\n",
       "      <td>0</td>\n",
       "    </tr>\n",
       "    <tr>\n",
       "      <th>2</th>\n",
       "      <td>0010a0dc83b236c45a0baa9d003ffbdb</td>\n",
       "      <td>0</td>\n",
       "    </tr>\n",
       "    <tr>\n",
       "      <th>3</th>\n",
       "      <td>0018e2b2df7379bf7ae504f0b63a2663</td>\n",
       "      <td>0</td>\n",
       "    </tr>\n",
       "    <tr>\n",
       "      <th>4</th>\n",
       "      <td>0020f48a296549a8ef2e51aaa90b5053</td>\n",
       "      <td>0</td>\n",
       "    </tr>\n",
       "    <tr>\n",
       "      <th>...</th>\n",
       "      <td>...</td>\n",
       "      <td>...</td>\n",
       "    </tr>\n",
       "    <tr>\n",
       "      <th>9415</th>\n",
       "      <td>ffd7a7f07ded3161765de59d2b170819</td>\n",
       "      <td>0</td>\n",
       "    </tr>\n",
       "    <tr>\n",
       "      <th>9416</th>\n",
       "      <td>ffd7e976b4e9e078774cba360b89bc58</td>\n",
       "      <td>0</td>\n",
       "    </tr>\n",
       "    <tr>\n",
       "      <th>9417</th>\n",
       "      <td>ffe073db68f2884d89cf0efab4b38657</td>\n",
       "      <td>0</td>\n",
       "    </tr>\n",
       "    <tr>\n",
       "      <th>9418</th>\n",
       "      <td>ffef1aa79482bffbdf5b1244e5cfc14e</td>\n",
       "      <td>0</td>\n",
       "    </tr>\n",
       "    <tr>\n",
       "      <th>9419</th>\n",
       "      <td>fff1635f755a8b1c17f9063a1cf8f55a</td>\n",
       "      <td>0</td>\n",
       "    </tr>\n",
       "  </tbody>\n",
       "</table>\n",
       "<p>9420 rows × 2 columns</p>\n",
       "</div>"
      ],
      "text/plain": [
       "                         Unique number  Дата проишествия\n",
       "0     0002a2f516ef21ac1e56e6b9825c9d8b                 0\n",
       "1     0010956940024093ae8a8fd43454336a                 0\n",
       "2     0010a0dc83b236c45a0baa9d003ffbdb                 0\n",
       "3     0018e2b2df7379bf7ae504f0b63a2663                 0\n",
       "4     0020f48a296549a8ef2e51aaa90b5053                 0\n",
       "...                                ...               ...\n",
       "9415  ffd7a7f07ded3161765de59d2b170819                 0\n",
       "9416  ffd7e976b4e9e078774cba360b89bc58                 0\n",
       "9417  ffe073db68f2884d89cf0efab4b38657                 0\n",
       "9418  ffef1aa79482bffbdf5b1244e5cfc14e                 0\n",
       "9419  fff1635f755a8b1c17f9063a1cf8f55a                 0\n",
       "\n",
       "[9420 rows x 2 columns]"
      ]
     },
     "execution_count": 56,
     "metadata": {},
     "output_type": "execute_result"
    }
   ],
   "source": [
    "Q7_2"
   ]
  },
  {
   "cell_type": "code",
   "execution_count": 27,
   "id": "b1093de8-c395-4412-ac51-5383d9b02b9e",
   "metadata": {},
   "outputs": [],
   "source": [
    "Q7_2=Q9_2[Q9_2['Дата проишествия']>1]"
   ]
  },
  {
   "cell_type": "code",
   "execution_count": 28,
   "id": "e29b486f-9af4-403f-bcfd-57616f7bdcc2",
   "metadata": {},
   "outputs": [
    {
     "data": {
      "text/plain": [
       "(5, 2)"
      ]
     },
     "execution_count": 28,
     "metadata": {},
     "output_type": "execute_result"
    }
   ],
   "source": [
    "Q7_2.shape"
   ]
  },
  {
   "cell_type": "code",
   "execution_count": 29,
   "id": "5c4e1704-2c13-4d3b-86df-255160c7d240",
   "metadata": {},
   "outputs": [
    {
     "data": {
      "text/html": [
       "<div>\n",
       "<style scoped>\n",
       "    .dataframe tbody tr th:only-of-type {\n",
       "        vertical-align: middle;\n",
       "    }\n",
       "\n",
       "    .dataframe tbody tr th {\n",
       "        vertical-align: top;\n",
       "    }\n",
       "\n",
       "    .dataframe thead th {\n",
       "        text-align: right;\n",
       "    }\n",
       "</style>\n",
       "<table border=\"1\" class=\"dataframe\">\n",
       "  <thead>\n",
       "    <tr style=\"text-align: right;\">\n",
       "      <th></th>\n",
       "      <th>Unique number</th>\n",
       "      <th>Дата проишествия</th>\n",
       "    </tr>\n",
       "  </thead>\n",
       "  <tbody>\n",
       "    <tr>\n",
       "      <th>371</th>\n",
       "      <td>0a3a1e71a726f4744afbdb2ef1357148</td>\n",
       "      <td>7</td>\n",
       "    </tr>\n",
       "    <tr>\n",
       "      <th>789</th>\n",
       "      <td>14f69489b14639e440988e3a52a650e5</td>\n",
       "      <td>2</td>\n",
       "    </tr>\n",
       "    <tr>\n",
       "      <th>1002</th>\n",
       "      <td>1bbce6dfdba970d99f41ed1f44488fc8</td>\n",
       "      <td>3</td>\n",
       "    </tr>\n",
       "    <tr>\n",
       "      <th>3201</th>\n",
       "      <td>56a4c2beb2e15a034bb3c2fc0c544b7e</td>\n",
       "      <td>2</td>\n",
       "    </tr>\n",
       "    <tr>\n",
       "      <th>7808</th>\n",
       "      <td>d2f959644b31e72df511f402d1136141</td>\n",
       "      <td>2</td>\n",
       "    </tr>\n",
       "  </tbody>\n",
       "</table>\n",
       "</div>"
      ],
      "text/plain": [
       "                         Unique number  Дата проишествия\n",
       "371   0a3a1e71a726f4744afbdb2ef1357148                 7\n",
       "789   14f69489b14639e440988e3a52a650e5                 2\n",
       "1002  1bbce6dfdba970d99f41ed1f44488fc8                 3\n",
       "3201  56a4c2beb2e15a034bb3c2fc0c544b7e                 2\n",
       "7808  d2f959644b31e72df511f402d1136141                 2"
      ]
     },
     "execution_count": 29,
     "metadata": {},
     "output_type": "execute_result"
    }
   ],
   "source": [
    "Q7_2"
   ]
  },
  {
   "cell_type": "markdown",
   "id": "4d79b558-1771-47ec-9848-4dfd9739ea68",
   "metadata": {},
   "source": [
    "# Каково распределение дорожно-транспортных происшествий в зависимости от класса \"бонус-малус\"?"
   ]
  },
  {
   "cell_type": "code",
   "execution_count": 70,
   "id": "911bd249-0d73-488e-86a3-7236507755f5",
   "metadata": {},
   "outputs": [
    {
     "data": {
      "text/plain": [
       "КБМ\n",
       "1     0\n",
       "2     2\n",
       "3    18\n",
       "4     8\n",
       "5    16\n",
       "6    12\n",
       "7    12\n",
       "8    39\n",
       "9    29\n",
       "Name: Дата проишествия, dtype: int64"
      ]
     },
     "execution_count": 70,
     "metadata": {},
     "output_type": "execute_result"
    }
   ],
   "source": [
    "Q8 = insurance.groupby(['КБМ'])['Дата проишествия'].count()\n",
    "Q8"
   ]
  },
  {
   "cell_type": "markdown",
   "id": "ac4909c9-4334-494d-a01c-43e3ba7fd388",
   "metadata": {},
   "source": [
    "# Какая компания-производитель автомобилей является самой популярной в любых из 5 городов? (выберите города, которые вам больше всего нравятся)"
   ]
  },
  {
   "cell_type": "code",
   "execution_count": 58,
   "id": "1d413d36-4b16-4a05-8447-32652c65937e",
   "metadata": {},
   "outputs": [
    {
     "data": {
      "text/plain": [
       "Город\n",
       "Актау                                 Toyota\n",
       "Караганда        [Mercedes-Benz, Volkswagen]\n",
       "Костанай                                 ВАЗ\n",
       "Нур-Султан                            Toyota\n",
       "Петропавловск                     Volkswagen\n",
       "Name: Модель, dtype: object"
      ]
     },
     "execution_count": 58,
     "metadata": {},
     "output_type": "execute_result"
    }
   ],
   "source": [
    "Q9 = insurance[insurance['Город'].isin(['Петропавловск', 'Костанай', 'Нур-Султан', 'Актау', 'Караганда'])]\n",
    "Q9 = Q9.groupby(['Город'])['Модель'].agg(pd.Series.mode)\n",
    "Q9"
   ]
  },
  {
   "cell_type": "markdown",
   "id": "475b7b79-f9d6-4418-99b4-c979ddb0044f",
   "metadata": {},
   "source": [
    "# Машины какого года больше всего попадают в аварии?"
   ]
  },
  {
   "cell_type": "code",
   "execution_count": 84,
   "id": "bc911d61-302e-4ae9-a675-d6e89363c04e",
   "metadata": {},
   "outputs": [
    {
     "data": {
      "text/html": [
       "<div>\n",
       "<style scoped>\n",
       "    .dataframe tbody tr th:only-of-type {\n",
       "        vertical-align: middle;\n",
       "    }\n",
       "\n",
       "    .dataframe tbody tr th {\n",
       "        vertical-align: top;\n",
       "    }\n",
       "\n",
       "    .dataframe thead th {\n",
       "        text-align: right;\n",
       "    }\n",
       "</style>\n",
       "<table border=\"1\" class=\"dataframe\">\n",
       "  <thead>\n",
       "    <tr style=\"text-align: right;\">\n",
       "      <th></th>\n",
       "      <th>Год выпуска</th>\n",
       "      <th>Количество аварий</th>\n",
       "    </tr>\n",
       "  </thead>\n",
       "  <tbody>\n",
       "    <tr>\n",
       "      <th>25</th>\n",
       "      <td>1989</td>\n",
       "      <td>2</td>\n",
       "    </tr>\n",
       "    <tr>\n",
       "      <th>27</th>\n",
       "      <td>1991</td>\n",
       "      <td>8</td>\n",
       "    </tr>\n",
       "    <tr>\n",
       "      <th>28</th>\n",
       "      <td>1992</td>\n",
       "      <td>2</td>\n",
       "    </tr>\n",
       "    <tr>\n",
       "      <th>29</th>\n",
       "      <td>1993</td>\n",
       "      <td>7</td>\n",
       "    </tr>\n",
       "    <tr>\n",
       "      <th>30</th>\n",
       "      <td>1994</td>\n",
       "      <td>7</td>\n",
       "    </tr>\n",
       "    <tr>\n",
       "      <th>31</th>\n",
       "      <td>1995</td>\n",
       "      <td>11</td>\n",
       "    </tr>\n",
       "    <tr>\n",
       "      <th>32</th>\n",
       "      <td>1996</td>\n",
       "      <td>12</td>\n",
       "    </tr>\n",
       "    <tr>\n",
       "      <th>33</th>\n",
       "      <td>1997</td>\n",
       "      <td>8</td>\n",
       "    </tr>\n",
       "    <tr>\n",
       "      <th>34</th>\n",
       "      <td>1998</td>\n",
       "      <td>5</td>\n",
       "    </tr>\n",
       "    <tr>\n",
       "      <th>35</th>\n",
       "      <td>1999</td>\n",
       "      <td>10</td>\n",
       "    </tr>\n",
       "    <tr>\n",
       "      <th>36</th>\n",
       "      <td>2000</td>\n",
       "      <td>2</td>\n",
       "    </tr>\n",
       "    <tr>\n",
       "      <th>37</th>\n",
       "      <td>2001</td>\n",
       "      <td>8</td>\n",
       "    </tr>\n",
       "    <tr>\n",
       "      <th>38</th>\n",
       "      <td>2002</td>\n",
       "      <td>9</td>\n",
       "    </tr>\n",
       "    <tr>\n",
       "      <th>39</th>\n",
       "      <td>2003</td>\n",
       "      <td>4</td>\n",
       "    </tr>\n",
       "    <tr>\n",
       "      <th>40</th>\n",
       "      <td>2004</td>\n",
       "      <td>4</td>\n",
       "    </tr>\n",
       "    <tr>\n",
       "      <th>41</th>\n",
       "      <td>2005</td>\n",
       "      <td>3</td>\n",
       "    </tr>\n",
       "    <tr>\n",
       "      <th>42</th>\n",
       "      <td>2006</td>\n",
       "      <td>7</td>\n",
       "    </tr>\n",
       "    <tr>\n",
       "      <th>43</th>\n",
       "      <td>2007</td>\n",
       "      <td>6</td>\n",
       "    </tr>\n",
       "    <tr>\n",
       "      <th>44</th>\n",
       "      <td>2008</td>\n",
       "      <td>2</td>\n",
       "    </tr>\n",
       "    <tr>\n",
       "      <th>45</th>\n",
       "      <td>2009</td>\n",
       "      <td>2</td>\n",
       "    </tr>\n",
       "    <tr>\n",
       "      <th>47</th>\n",
       "      <td>2011</td>\n",
       "      <td>3</td>\n",
       "    </tr>\n",
       "    <tr>\n",
       "      <th>48</th>\n",
       "      <td>2012</td>\n",
       "      <td>6</td>\n",
       "    </tr>\n",
       "    <tr>\n",
       "      <th>49</th>\n",
       "      <td>2013</td>\n",
       "      <td>6</td>\n",
       "    </tr>\n",
       "  </tbody>\n",
       "</table>\n",
       "</div>"
      ],
      "text/plain": [
       "    Год выпуска  Количество аварий\n",
       "25         1989                  2\n",
       "27         1991                  8\n",
       "28         1992                  2\n",
       "29         1993                  7\n",
       "30         1994                  7\n",
       "31         1995                 11\n",
       "32         1996                 12\n",
       "33         1997                  8\n",
       "34         1998                  5\n",
       "35         1999                 10\n",
       "36         2000                  2\n",
       "37         2001                  8\n",
       "38         2002                  9\n",
       "39         2003                  4\n",
       "40         2004                  4\n",
       "41         2005                  3\n",
       "42         2006                  7\n",
       "43         2007                  6\n",
       "44         2008                  2\n",
       "45         2009                  2\n",
       "47         2011                  3\n",
       "48         2012                  6\n",
       "49         2013                  6"
      ]
     },
     "execution_count": 84,
     "metadata": {},
     "output_type": "execute_result"
    }
   ],
   "source": [
    "import seaborn as sns\n",
    "his= insurance.groupby(insurance['Год выпуска'].dt.year)['Дата проишествия'].count().reset_index(name='Количество аварий')\n",
    "his = his[his['Количество аварий']>1]\n",
    "his.head()\n",
    "his"
   ]
  },
  {
   "cell_type": "code",
   "execution_count": 94,
   "id": "7a406747-b2ec-4e33-b7dd-f1c31b457ba5",
   "metadata": {},
   "outputs": [
    {
     "data": {
      "image/png": "[encoded data removed]",
      "text/plain": [
       "<Figure size 640x480 with 1 Axes>"
      ]
     },
     "metadata": {},
     "output_type": "display_data"
    }
   ],
   "source": [
    "import matplotlib.pyplot as plt\n",
    "sns.barplot(data=his, x='Год выпуска', y='Количество аварий', color='blue')\n",
    "plt.title('Количество аварий по годам выпуска машин')\n",
    "plt.xlabel('Год выпуска')\n",
    "plt.ylabel('Количество аварий')\n",
    "plt.xticks(rotation=45, fontsize=7)          \n",
    "plt.tight_layout()\n",
    "plt.show()\n"
   ]
  },
  {
   "cell_type": "code",
   "execution_count": null,
   "id": "35219492-d4d9-4976-8995-ac1e7af595c2",
   "metadata": {},
   "outputs": [],
   "source": []
  }
 ],
 "metadata": {
  "kernelspec": {
   "display_name": "Python 3 (ipykernel)",
   "language": "python",
   "name": "python3"
  },
  "language_info": {
   "codemirror_mode": {
    "name": "ipython",
    "version": 3
   },
   "file_extension": ".py",
   "mimetype": "text/x-python",
   "name": "python",
   "nbconvert_exporter": "python",
   "pygments_lexer": "ipython3",
   "version": "3.10.0"
  }
 },
 "nbformat": 4,
 "nbformat_minor": 5
}
